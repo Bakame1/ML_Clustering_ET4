{
 "cells": [
  {
   "cell_type": "markdown",
   "id": "1dbd7ba6-680c-4c00-a2ac-848d59d3aff5",
   "metadata": {},
   "source": [
    "# Clustering d'Images avec Scikit-learn et Visualisation avec Streamlit\n",
    "\n",
    "Le clustering est une technique d'apprentissage non supervisé qui permet de regrouper des données similaires en différents groupes ou clusters. Dans le contexte de l'analyse d'images, le clustering peut être utilisé pour segmenter des images, détecter des objets ou des régions d'intérêt, et comprendre la structure des données d'image. Ce TP vous guidera à travers le processus de clustering d'un ensemble d'images de chiffres manuscrits en utilisant l'algorithme K-Means et l'extraction de caractéristiques HOG et d'histogrammes de niveaux de gris. Vous visualiserez ensuite les résultats du clustering à l'aide de la bibliothèque Streamlit.\n",
    "\n",
    "\n",
    "À la fin de ce TP, vous aurez une compréhension pratique du processus de clustering d'images, de l'extraction de caractéristiques, de l'évaluation des performances et de la visualisation des résultats à l'aide de Streamlit. Ces compétences sont précieuses dans de nombreux domaines tels que la vision par ordinateur, le traitement d'images médicales, l'analyse de données d'imagerie satellitaire, et bien d'autres.\n"
   ]
  },
  {
   "cell_type": "code",
   "execution_count": 6,
   "id": "1b3c0df9-03cc-4b5d-a9c6-84254619130a",
   "metadata": {
    "tags": []
   },
   "outputs": [],
   "source": [
    "from sklearn.preprocessing import StandardScaler\n",
    "import os\n",
    "import pandas as pd\n",
    "from sklearn import datasets\n",
    "\n",
    "from features import *\n",
    "from clustering import *\n",
    "from utils import *\n",
    "from constant import  PATH_OUTPUT, MODEL_CLUSTERING\n"
   ]
  },
  {
   "cell_type": "code",
   "execution_count": 7,
   "id": "53ae3cc6-1cfc-4034-9164-cec0b0fba3ee",
   "metadata": {},
   "outputs": [],
   "source": [
    "#pip install -r ../requierements.txt"
   ]
  },
  {
   "cell_type": "markdown",
   "id": "9b19d94b-0134-496a-82b0-5b4aa0a3dfa7",
   "metadata": {},
   "source": [
    "\n",
    "## Partie 1 : Création du modèle de clustering d'images\n",
    "#### (fichier pipeline.py)\n",
    "\n",
    "**1. Chargement des données d'images de chiffres manuscrits à partir du dataset Digits.**\n",
    "   - Vous utiliserez le célèbre dataset Digitis qui contient des images de chiffres manuscrits. Ce dataset est souvent utilisé pour tester des algorithmes de reconnaissance de chiffres et d'apprentissage automatique.\n",
    "\n"
   ]
  },
  {
   "cell_type": "code",
   "execution_count": 9,
   "id": "cbf8e76a-5f20-42bf-b931-a269635f3de4",
   "metadata": {
    "tags": []
   },
   "outputs": [
    {
     "name": "stdout",
     "output_type": "stream",
     "text": [
      "##### Chargement des données ######\n"
     ]
    }
   ],
   "source": [
    "print(\"##### Chargement des données ######\")\n",
    "digits = datasets.load_digits()\n",
    "labels_true =digits.target\n",
    "images = digits.images\n"
   ]
  },
  {
   "cell_type": "code",
   "execution_count": 10,
   "id": "ca1d8c06-06d9-4067-9055-d207d74a2e97",
   "metadata": {},
   "outputs": [
    {
     "name": "stdout",
     "output_type": "stream",
     "text": [
      "[[ 0.  0.  5. 13.  9.  1.  0.  0.]\n",
      " [ 0.  0. 13. 15. 10. 15.  5.  0.]\n",
      " [ 0.  3. 15.  2.  0. 11.  8.  0.]\n",
      " [ 0.  4. 12.  0.  0.  8.  8.  0.]\n",
      " [ 0.  5.  8.  0.  0.  9.  8.  0.]\n",
      " [ 0.  4. 11.  0.  1. 12.  7.  0.]\n",
      " [ 0.  2. 14.  5. 10. 12.  0.  0.]\n",
      " [ 0.  0.  6. 13. 10.  0.  0.  0.]]\n",
      "\n",
      "[[ 0.  0.  0. 12. 13.  5.  0.  0.]\n",
      " [ 0.  0.  0. 11. 16.  9.  0.  0.]\n",
      " [ 0.  0.  3. 15. 16.  6.  0.  0.]\n",
      " [ 0.  7. 15. 16. 16.  2.  0.  0.]\n",
      " [ 0.  0.  1. 16. 16.  3.  0.  0.]\n",
      " [ 0.  0.  1. 16. 16.  6.  0.  0.]\n",
      " [ 0.  0.  1. 16. 16.  6.  0.  0.]\n",
      " [ 0.  0.  0. 11. 16. 10.  0.  0.]]\n"
     ]
    }
   ],
   "source": [
    "print(images[0])\n",
    "print()\n",
    "print(images[1])"
   ]
  },
  {
   "cell_type": "markdown",
   "id": "eb8e35eb-c5a6-468a-a725-c8b15fff0747",
   "metadata": {},
   "source": [
    "**2. Extraction des caractéristiques HOG (Histogrammes de Gradients Orientés) et des histogrammes de niveaux de gris à partir des images.**\n",
    "   - Les caractéristiques HOG capturent les informations de gradient et de bords dans les images, ce qui les rend utiles pour la reconnaissance d'objets et de formes.\n",
    "   - Les histogrammes de niveaux de gris représentent la distribution des intensités de pixels dans l'image, fournissant des informations sur la texture et les motifs.\n",
    "\n",
    "**TODO :**\n",
    "   - Implémentez les fonctions `compute_hog_descriptors` et `compute_gray_histograms` dans  le fichier `features.py`, utilisez respectivement les fonctions `hog` de  la librairie `skimage` et  `calcHist` de `cv2`.\n",
    "   - lien HOG : https://scikit-image.org/docs/stable/auto_examples/features_detection/plot_hog.html\n",
    "   - lien  histogrammes de niveaux de gris : https://pyimagesearch.com/2021/04/28/opencv-image-histograms-cv2-calchist/\n",
    "   "
   ]
  },
  {
   "cell_type": "code",
   "execution_count": 12,
   "id": "19233c48-b58c-4674-9d8b-1b3bdbdf5976",
   "metadata": {
    "tags": []
   },
   "outputs": [
    {
     "name": "stdout",
     "output_type": "stream",
     "text": [
      "\n",
      "\n",
      " ##### Extraction de Features ######\n",
      "- calcul features hog...\n",
      "- calcul features Histogram...\n"
     ]
    }
   ],
   "source": [
    "\n",
    "print(\"\\n\\n ##### Extraction de Features ######\")\n",
    "print(\"- calcul features hog...\")\n",
    "descriptors_hog = compute_hog_descriptors(images)\n",
    "print(\"- calcul features Histogram...\")\n",
    "descriptors_hist = compute_gray_histograms(images)\n"
   ]
  },
  {
   "cell_type": "code",
   "execution_count": 13,
   "id": "c0e82426-7c9d-43e2-8e1c-3b300c68bff9",
   "metadata": {},
   "outputs": [
    {
     "name": "stdout",
     "output_type": "stream",
     "text": [
      "Shape HOG : (1797, 36)\n",
      "Shape Hist : (1797, 256)\n"
     ]
    }
   ],
   "source": [
    "# Pour HOG\n",
    "descriptors_hog = np.array(descriptors_hog)\n",
    "print(\"Shape HOG :\", descriptors_hog.shape)  # Doit être (n_samples, n_features)\n",
    "\n",
    "# Pour les histogrammes\n",
    "descriptors_hist = np.array(descriptors_hist)\n",
    "print(\"Shape Hist :\", descriptors_hist.shape)  # Doit être (n_samples, n_features)"
   ]
  },
  {
   "cell_type": "markdown",
   "id": "6c041906-7aa1-464a-97d3-e961976c56a2",
   "metadata": {},
   "source": [
    "\n",
    "**3. Application de l'algorithme K-Means sur les caractéristiques extraites pour obtenir les clusters.**\n",
    "   - L'algorithme K-Means est un algorithme de clustering populaire qui partitionne les données en K clusters en minimisant la somme des carrés des distances entre les points de données et les centroïdes des clusters.\n",
    "   \n",
    "   \n",
    " \n",
    " **TODO :**\n",
    "   - Dans le fichier `clustering.py` implémentez les fonctions `initialize_centers()`, `nearest_cluster()` et `fit()` du KMeans.\n",
    "   "
   ]
  },
  {
   "cell_type": "code",
   "execution_count": 21,
   "id": "f22ffbbf-5983-48fc-8e92-338b8b84f9dc",
   "metadata": {},
   "outputs": [
    {
     "name": "stdout",
     "output_type": "stream",
     "text": [
      "[0.30081626 0.1975201  0.24791601 0.21325635 0.         0.\n",
      " 0.         0.         0.         0.30081626 0.         0.\n",
      " 0.         0.09860799 0.12249676 0.26387247 0.18625954 0.21527182\n",
      " 0.30081626 0.         0.         0.         0.         0.14902375\n",
      " 0.14289453 0.12249676 0.28445089 0.30081626 0.30081626 0.29606778\n",
      " 0.         0.         0.         0.         0.         0.        ]\n"
     ]
    }
   ],
   "source": [
    "print(descriptors_hog[0])"
   ]
  },
  {
   "cell_type": "code",
   "execution_count": 11,
   "id": "828857ee-a9eb-456d-afe3-5ec3a9aabc7c",
   "metadata": {
    "tags": []
   },
   "outputs": [
    {
     "name": "stdout",
     "output_type": "stream",
     "text": [
      "\n",
      "\n",
      " ##### Clustering ######\n",
      "- calcul kmeans avec features HOG ...\n",
      "- calcul kmeans avec features Histogram...\n"
     ]
    }
   ],
   "source": [
    "print(\"\\n\\n ##### Clustering ######\")\n",
    "number_cluster = 10\n",
    "kmeans_hog = KMeans(number_cluster)\n",
    "kmeans_hist = KMeans(number_cluster)\n",
    "\n",
    "print(\"- calcul kmeans avec features HOG ...\")\n",
    "kmeans_hog.fit(np.array(descriptors_hog))\n",
    "print(\"- calcul kmeans avec features Histogram...\")\n",
    "kmeans_hist.fit(np.array(descriptors_hist))"
   ]
  },
  {
   "cell_type": "code",
   "execution_count": 12,
   "id": "2c597945-ff73-4cbe-826b-e799dcd64fbd",
   "metadata": {},
   "outputs": [
    {
     "name": "stdout",
     "output_type": "stream",
     "text": [
      "Shape des labels : (1797,)\n",
      "Valeurs uniques : [0 1 2 3 4 5 6 7 8 9]\n"
     ]
    }
   ],
   "source": [
    "# Exemple d'utilisation\n",
    "kmeans = KMeans(n_clusters=10, random_state=42)\n",
    "kmeans.fit(descriptors_hog)  # ou descriptors_hist\n",
    "\n",
    "# Vérification des labels\n",
    "print(\"Shape des labels :\", kmeans.labels_.shape)  # Doit être (1797,)\n",
    "print(\"Valeurs uniques :\", np.unique(kmeans.labels_))  # Doit afficher [0 1 2 3 4 5 6 7 8 9]"
   ]
  },
  {
   "cell_type": "markdown",
   "id": "bac53ab9-35f5-463d-b1f1-23a97b0deda3",
   "metadata": {},
   "source": [
    "**4. Évaluation des performances du clustering en utilisant des métriques telles que la pureté, l'entropie, et les scores Rand et Mutual Information.**\n",
    "   - La pureté mesure la fraction d'exemples de cluster qui sont membres du cluster majoritaire.\n",
    "   - L'entropie est une mesure de désordre ou d'impureté dans les clusters.\n",
    "   - Le score Rand mesure la similarité entre deux partitions en comparant les paires d'exemples.\n",
    "   - Le score Mutual Information évalue la quantité d'information partagée entre deux partitions.\n"
   ]
  },
  {
   "cell_type": "code",
   "execution_count": 14,
   "id": "292f0e85-6e4c-4650-8e8a-5e7ba9303160",
   "metadata": {
    "tags": []
   },
   "outputs": [
    {
     "name": "stdout",
     "output_type": "stream",
     "text": [
      "\n",
      "\n",
      "##### Résultat ######\n",
      "########## Métrique descripteur : HISTOGRAM\n",
      "Adjusted Rand Index: 0.03916815607950104\n",
      "Jaccard Index: 0.05955041314651436\n",
      "Homogeneity: 0.0854074400220543\n",
      "Completeness: 0.08954386713742166\n",
      "V-measure: 0.08742675417578798\n",
      "Silhouette Score: 0.0518353208899498\n",
      "Adjusted Mutual Information: 0.0779938737775304\n",
      "\n",
      "\n",
      "\n",
      "########## Métrique descripteur : HOG\n",
      "Adjusted Rand Index: 0.509212906028302\n",
      "Jaccard Index: 0.05640973499922134\n",
      "Homogeneity: 0.5959904492483094\n",
      "Completeness: 0.6042452605305714\n",
      "V-measure: 0.6000894680031185\n",
      "Silhouette Score: 0.07100599056317991\n",
      "Adjusted Mutual Information: 0.5960575331461502\n"
     ]
    }
   ],
   "source": [
    "\n",
    "print(\"\\n\\n##### Résultat ######\")\n",
    "metric_hist = show_metric(labels_true, kmeans_hist.labels_, descriptors_hist, bool_show=True, name_descriptor=\"HISTOGRAM\", bool_return=True)\n",
    "print(\"\\n\\n\")\n",
    "metric_hog = show_metric(labels_true, kmeans_hog.labels_, descriptors_hog,bool_show=True, name_descriptor=\"HOG\", bool_return=True)\n"
   ]
  },
  {
   "cell_type": "markdown",
   "id": "3aa4d497-034b-4fa3-a9fe-7c4c603c75df",
   "metadata": {
    "tags": []
   },
   "source": [
    "**5. Conversion des données de clustering au format requis pour la visualisation avec Streamlit.**\n"
   ]
  },
  {
   "cell_type": "code",
   "execution_count": 16,
   "id": "2c6bd3b8-fdf5-44dd-9598-bb6bf78be66c",
   "metadata": {
    "tags": []
   },
   "outputs": [],
   "source": [
    "list_dict = [metric_hist,metric_hog]\n",
    "df_metric = pd.DataFrame(list_dict)\n",
    "\n",
    "scaler = StandardScaler()\n",
    "descriptors_hist_norm = scaler.fit_transform(descriptors_hist)\n",
    "descriptors_hog_norm = scaler.fit_transform(descriptors_hog)\n",
    "\n",
    "#conversion vers un format 3D pour la visualisation\n",
    "x_3d_hist = conversion_3d(descriptors_hist_norm)\n",
    "x_3d_hog = conversion_3d(descriptors_hog_norm)\n",
    "\n",
    "# création des dataframe pour la sauvegarde des données pour la visualisation\n",
    "df_hist = create_df_to_export(x_3d_hist, labels_true, kmeans_hist.labels_)\n",
    "df_hog = create_df_to_export(x_3d_hog, labels_true, kmeans_hog.labels_)\n",
    "\n",
    "# Vérifie si le dossier existe déjà\n",
    "if not os.path.exists(PATH_OUTPUT):\n",
    "    # Crée le dossier\n",
    "    os.makedirs(PATH_OUTPUT)\n",
    "\n",
    "# sauvegarde des données\n",
    "df_hist.to_excel(PATH_OUTPUT+\"/save_clustering_hist_kmeans.xlsx\")\n",
    "df_hog.to_excel(PATH_OUTPUT+\"/save_clustering_hog_kmeans.xlsx\")\n",
    "df_metric.to_excel(PATH_OUTPUT+\"/save_metric.xlsx\")\n",
    "\n",
    "\n"
   ]
  },
  {
   "cell_type": "markdown",
   "id": "c70259bc-25c0-4090-8d73-448744b7146d",
   "metadata": {},
   "source": [
    "***6. Création du fichier pipeline.py*** \n",
    "- Mettez au propre le code dans le fichier pipeline.py\n",
    "- Puis exécutez :  `python pipeline.py `"
   ]
  },
  {
   "cell_type": "code",
   "execution_count": 29,
   "id": "a49ef1f1-4558-4496-b20f-19b946554257",
   "metadata": {},
   "outputs": [
    {
     "name": "stdout",
     "output_type": "stream",
     "text": [
      "##### Chargement des données ######\n",
      "\n",
      "\n",
      " ##### Extraction de Features ######\n",
      "- calcul features hog...\n",
      "- calcul features Histogram...\n",
      "\n",
      "\n",
      " ##### Clustering ######\n",
      "- calcul kmeans avec features HOG ...\n",
      "- calcul kmeans avec features Histogram...\n",
      "\n",
      "\n",
      " ##### Résultat ######\n",
      "########## Métrique descripteur : HISTOGRAM\n",
      "Adjusted Rand Index: 0.03423672491767972\n",
      "Jaccard Index: 0.06254882609399884\n",
      "Homogeneity: 0.08407387137661493\n",
      "Completeness: 0.08887172940924448\n",
      "V-measure: 0.08640624928785196\n",
      "Silhouette Score: 0.053603265434503555\n",
      "Adjusted Mutual Information: 0.07691904713048492\n",
      "########## Métrique descripteur : HOG\n",
      "Adjusted Rand Index: 0.5116634185014238\n",
      "Jaccard Index: 0.1258268675246286\n",
      "Homogeneity: 0.6045880144041541\n",
      "Completeness: 0.6150027245044831\n",
      "V-measure: 0.6097509011818837\n",
      "Silhouette Score: 0.08253210359106301\n",
      "Adjusted Mutual Information: 0.605806584346162\n",
      "- export des données vers le dashboard\n",
      "Fin. \n",
      "\n",
      " Pour avoir la visualisation dashboard, veuillez lancer la commande : streamlit run dashboard_clustering.py\n"
     ]
    }
   ],
   "source": [
    "!python pipeline.py"
   ]
  },
  {
   "cell_type": "markdown",
   "id": "7006f6f8-07fa-40fd-ba69-e3067da9a851",
   "metadata": {},
   "source": [
    "\n",
    "## Partie 2 : Visualisation des résultats du clustering avec Streamlit\n",
    "### (fichier dashboad_clustering.py)\n",
    "\n",
    "Cette partie constituera le rendu final du TP. Nous développerons une application Streamlit pour visualiser et analyser les résultats du clustering.\n",
    "\n",
    "L'application permettra de :\n",
    "\n",
    "***1. Visualisation 3D du clustering***\n",
    "- Nous créerons une visualisation 3D interactive des clusters obtenus, avec la possibilité de mettre en évidence un cluster spécifique et d'afficher des exemples d'images appartenant à ce cluster.\n",
    "\n",
    "***TODO :***\n",
    "- Utilizer la fonction `scatter_3d()` pour faire un plot 3D du clustering.\n",
    "- lien : https://plotly.com/python/3d-scatter-plots/\n",
    "\n",
    "\n"
   ]
  },
  {
   "cell_type": "code",
   "execution_count": 8,
   "id": "80e39c33-376c-4343-b684-f329c308934a",
   "metadata": {
    "tags": []
   },
   "outputs": [],
   "source": [
    "import matplotlib.pyplot as plt\n",
    "import plotly.express as px"
   ]
  },
  {
   "cell_type": "code",
   "execution_count": null,
   "id": "0dbfad4d-1443-49b4-9601-7a4a8e89ac25",
   "metadata": {
    "tags": []
   },
   "outputs": [],
   "source": []
  },
  {
   "cell_type": "markdown",
   "id": "e12b5900-c781-478a-b79f-9bdaecf926d6",
   "metadata": {
    "tags": []
   },
   "source": [
    "\n",
    "***2. Métriques d'évaluation***\n",
    "- Nous calculerons et afficherons diverses métriques d'évaluation, telles que le score AMI (Adjusted Mutual Information), pour quantifier la qualité du clustering obtenu avec chaque descripteur.\n",
    "\n",
    "***TODO :*** \n",
    "- Utilisez la fonction `px.bar()` pour afficher un histogramme du score AMI.\n",
    "- lien : https://plotly.com/python/horizontal-bar-charts/"
   ]
  },
  {
   "cell_type": "code",
   "execution_count": 2,
   "id": "a019c6f6-5f7e-4a08-9e55-27d051cc1c93",
   "metadata": {
    "tags": []
   },
   "outputs": [],
   "source": [
    "graph_size = 300\n"
   ]
  },
  {
   "cell_type": "code",
   "execution_count": 13,
   "id": "07fb04b6-2d50-43f4-ae62-efddd9b17a76",
   "metadata": {
    "tags": []
   },
   "outputs": [
    {
     "data": {
      "text/html": [
       "<div>\n",
       "<style scoped>\n",
       "    .dataframe tbody tr th:only-of-type {\n",
       "        vertical-align: middle;\n",
       "    }\n",
       "\n",
       "    .dataframe tbody tr th {\n",
       "        vertical-align: top;\n",
       "    }\n",
       "\n",
       "    .dataframe thead th {\n",
       "        text-align: right;\n",
       "    }\n",
       "</style>\n",
       "<table border=\"1\" class=\"dataframe\">\n",
       "  <thead>\n",
       "    <tr style=\"text-align: right;\">\n",
       "      <th></th>\n",
       "      <th>ami</th>\n",
       "      <th>ari</th>\n",
       "      <th>silhouette</th>\n",
       "      <th>homogeneity</th>\n",
       "      <th>completeness</th>\n",
       "      <th>v_measure</th>\n",
       "      <th>jaccard</th>\n",
       "      <th>descriptor</th>\n",
       "      <th>name_model</th>\n",
       "    </tr>\n",
       "  </thead>\n",
       "  <tbody>\n",
       "    <tr>\n",
       "      <th>0</th>\n",
       "      <td>0.134182</td>\n",
       "      <td>0.068122</td>\n",
       "      <td>0.063914</td>\n",
       "      <td>0.141543</td>\n",
       "      <td>0.144184</td>\n",
       "      <td>0.142851</td>\n",
       "      <td>0.057647</td>\n",
       "      <td>HISTOGRAM</td>\n",
       "      <td>kmeans</td>\n",
       "    </tr>\n",
       "    <tr>\n",
       "      <th>1</th>\n",
       "      <td>0.415635</td>\n",
       "      <td>0.314030</td>\n",
       "      <td>0.110121</td>\n",
       "      <td>0.417808</td>\n",
       "      <td>0.425218</td>\n",
       "      <td>0.421480</td>\n",
       "      <td>0.081767</td>\n",
       "      <td>HOG</td>\n",
       "      <td>kmeans</td>\n",
       "    </tr>\n",
       "  </tbody>\n",
       "</table>\n",
       "</div>"
      ],
      "text/plain": [
       "        ami       ari  silhouette  homogeneity  completeness  v_measure  \\\n",
       "0  0.134182  0.068122    0.063914     0.141543      0.144184   0.142851   \n",
       "1  0.415635  0.314030    0.110121     0.417808      0.425218   0.421480   \n",
       "\n",
       "    jaccard descriptor name_model  \n",
       "0  0.057647  HISTOGRAM     kmeans  \n",
       "1  0.081767        HOG     kmeans  "
      ]
     },
     "execution_count": 13,
     "metadata": {},
     "output_type": "execute_result"
    }
   ],
   "source": [
    "df_metric"
   ]
  },
  {
   "cell_type": "markdown",
   "id": "a500c3ef-eaa5-43b0-8a0f-738dd659a6d3",
   "metadata": {
    "tags": []
   },
   "source": [
    "***3. Finalisation du fichier dashboard_clustering.py***\n",
    "\n",
    "***TODO :***\n",
    "- Ajoutez les graphiques dans le fichier, puis lancez la commande :  `streamlit run dashboard_clustering.py `"
   ]
  },
  {
   "cell_type": "code",
   "execution_count": null,
   "id": "392d2780-5c2e-43e8-a603-23f2c61bef17",
   "metadata": {},
   "outputs": [],
   "source": [
    "import streamlit as st\n",
    "import pandas as pd\n",
    "import numpy as np\n",
    "from sklearn.cluster import KMeans\n",
    "from sklearn.datasets import load_digits\n",
    "from sklearn.manifold import TSNE\n",
    "import matplotlib.pyplot as plt\n",
    "import plotly.express as px\n",
    "import cv2\n",
    "\n",
    "from constant import PATH_OUTPUT, MODEL_CLUSTERING\n",
    "\n",
    "\n",
    "@st.cache_data\n",
    "def colorize_cluster(cluster_data, selected_cluster):\n",
    "    fig = px.scatter_3d(cluster_data, x='x', y='y', z='z', color='cluster')\n",
    "    filtered_data = cluster_data[cluster_data['cluster'] == selected_cluster]\n",
    "    fig.add_scatter3d(x=filtered_data['x'], y=filtered_data['y'], z=filtered_data['z'],\n",
    "                    mode='markers', marker=dict(color='red', size=10),\n",
    "                    name=f'Cluster {selected_cluster}')\n",
    "    return fig\n",
    "\n",
    "@st.cache_data\n",
    "def plot_metric(df_metric):\n",
    "    \"\"\"Affiche les scores AMI sous forme d'histogramme comparatif\"\"\"\n",
    "    fig = px.bar(\n",
    "        df_metric,\n",
    "        x='descriptor',\n",
    "        y='ami',\n",
    "        color='descriptor',\n",
    "        title='Comparaison du score AMI entre descripteurs',\n",
    "        labels={'ami': 'Adjusted Mutual Info Score', 'descriptor': 'Type de descripteur'}\n",
    "    )\n",
    "    st.plotly_chart(fig)\n",
    "\n",
    "        \n",
    "#Chargement des données du clustering\n",
    "#Modifier les lectures des fichiers Excel (ajouter engine='openpyxl')\n",
    "df_hist = pd.read_excel(PATH_OUTPUT+\"/save_clustering_hist_kmeans.xlsx\", engine='openpyxl')\n",
    "df_hog = pd.read_excel(PATH_OUTPUT+\"/save_clustering_hog_kmeans.xlsx\", engine='openpyxl')\n",
    "df_metric = pd.read_excel(PATH_OUTPUT+\"/save_metric.xlsx\", engine='openpyxl')\n",
    "\n",
    "if 'Unnamed: 0' in df_metric.columns:\n",
    "    df_metric.drop(columns=\"Unnamed: 0\", inplace=True)\n",
    "\n",
    "#Création de deux onglets\n",
    "tab1, tab2 = st.tabs([\"Analyse par descripteur\", \"Analyse global\" ])\n",
    "\n",
    "#Onglet numéro 1\n",
    "with tab1:\n",
    "\n",
    "    st.write('## Résultat de Clustering des données DIGITS')\n",
    "    st.sidebar.write(\"####  Veuillez sélectionner les clusters à analyser\" )\n",
    "    # Sélection des descripteurs\n",
    "    descriptor =  st.sidebar.selectbox('Sélectionner un descripteur', [\"HISTOGRAM\",\"HOG\"])\n",
    "    if descriptor==\"HISTOGRAM\":\n",
    "        df = df_hist\n",
    "    if descriptor==\"HOG\":\n",
    "        df = df_hog\n",
    "    # Ajouter un sélecteur pour les clusters\n",
    "    selected_cluster =  st.sidebar.selectbox('Sélectionner un Cluster', range(10))\n",
    "    # Filtrer les données en fonction du cluster sélectionné\n",
    "    cluster_indices = df[df.cluster==selected_cluster].index    \n",
    "    st.write(f\"###  Analyse du descripteur {descriptor}\" )\n",
    "    st.write(f\"#### Analyse du cluster : {selected_cluster}\")\n",
    "    st.write(f\"####  Visualisation 3D du clustering avec descripteur {descriptor}\" )\n",
    "    # Sélection du cluster choisi\n",
    "    filtered_data = df[df['cluster'] == selected_cluster]\n",
    "    \n",
    "    # Création d'un graph 3D des cluster\n",
    "    fig = colorize_cluster(df, selected_cluster)  # Génération de la figure\n",
    "    st.plotly_chart(fig)  # Affichage de la figure\n",
    "\n",
    "#Onglet numéro 2\n",
    "with tab2:\n",
    "    st.write('## Analyse Global des descripteurs')\n",
    "    # Affichage des histogrammes\n",
    "    plot_metric(df_metric)\n",
    "    \n",
    "    st.write('## Métriques ')\n",
    "    # Affichage du tableau récapitulatif\n",
    "    st.dataframe(\n",
    "    df_metric[['descriptor', 'ami', 'ari', 'v_measure', 'silhouette']]\n",
    "    .style\n",
    "    .highlight_max(color='lightgreen', subset=['ami', 'ari', 'v_measure', 'silhouette'])\n",
    "    .format(\"{:.2f}\", subset=['ami', 'ari', 'v_measure', 'silhouette']),  # <-- Correction ici\n",
    "    height=200\n",
    ")\n"
   ]
  },
  {
   "cell_type": "markdown",
   "id": "ddbf464f-4306-4907-b78f-8d88945d4c6f",
   "metadata": {},
   "source": [
    "#### LANCER LE PROG\n",
    "Il faut que les excels soit crée"
   ]
  },
  {
   "cell_type": "markdown",
   "id": "b42c1208-bc2f-4b19-9aef-bb066a54347e",
   "metadata": {},
   "source": [
    "Lancer : `python pipeline.py` <br>\n",
    "avant le : `streamlit run dashboard_clustering.py `"
   ]
  },
  {
   "cell_type": "markdown",
   "id": "0e4d4785-8cf0-448a-aa3a-67bd0982ae0e",
   "metadata": {},
   "source": [
    "#### Score AMI et HOG"
   ]
  },
  {
   "cell_type": "markdown",
   "id": "5de5c3a8-f42c-46cc-b403-77d84ef192af",
   "metadata": {},
   "source": [
    "LIEN AMI : https://www.google.com/search?q=score+AMI+python&client=firefox-b-d&sca_esv=d4b7a29fd02e8386&ei=GdzGZ-aTCZDskdUPje7GgAY&ved=0ahUKEwimhLvfofCLAxUQdqQEHQ23EWAQ4dUDCBA&uact=5&oq=score+AMI+python&gs_lp=Egxnd3Mtd2l6LXNlcnAiEHNjb3JlIEFNSSBweXRob24yBxAhGKABGAoyBxAhGKABGApIkSZQshBYkCVwAngAkAEAmAFkoAGuBaoBAzguMbgBA8gBAPgBAZgCC6AC6gXCAgsQABiABBiwAxiiBMICCBAAGLADGO8FwgIFEAAYgATCAgcQABiABBgKwgIKEAAYgAQYRhj9AcICFhAAGIAEGEYY_QEYlwUYjAUY3QTYAQHCAgYQABgWGB7CAgUQABjvBcICCBAAGIAEGKIEwgIEECEYFcICBRAhGJ8FwgIFECEYoAGYAwCIBgGQBgW6BgYIARABGBOSBwQxMC4xoAfiMg&sclient=gws-wiz-serp"
   ]
  },
  {
   "cell_type": "markdown",
   "id": "17ba0740-5bd2-435e-ac98-410fc3210528",
   "metadata": {},
   "source": [
    "##### AMI :\n",
    "Le problème du \"hasard\"\n",
    "\n",
    "Si tu regroupes aléatoirement les jouets (sans logique), il y aura quand même un peu de similitudes par chance avec la bonne méthode.\n",
    "→ C’est comme si tu gagnais à un jeu de dés sans savoir jouer : c’est juste de la chance, pas de la compétence.\n",
    "\n",
    "##### L’AMI, le \"score anti-chance\"\n",
    "\n",
    "L’Adjusted Mutual Information (AMI) est un score qui :\n",
    "\n",
    "    Mesure à quel point vos deux regroupements se ressemblent.(Regarde si deux tris de jouets se ressemblent.)\n",
    "    Enlève les points communs dus uniquement au hasard\n",
    "    Donne un résultat entre 0 et 1 :\n",
    "\n",
    "        1 = Vos regroupements sont parfaitement identiques (ex: triés par type tous les deux).\n",
    "        0 = Vos regroupements sont aussi similaires que s’ils étaient faits au hasard.\n",
    "\n"
   ]
  },
  {
   "cell_type": "markdown",
   "id": "01c7bb29-a570-42aa-8834-0298b5ededc2",
   "metadata": {},
   "source": [
    "LIEN VIDEO HOG : https://www.youtube.com/watch?v=t4pgvy_hiRk"
   ]
  },
  {
   "cell_type": "markdown",
   "id": "e125eaf9-f301-45a3-a5b3-c97c075d27ec",
   "metadata": {},
   "source": [
    "a) Détecter les \"bordures\" (contours)\n",
    "\n",
    "    Comment ? L’image est convertie en noir et blanc.\n",
    "    On cherche où la luminosité change brusquement (ex: passage du noir au blanc = bordure d’un objet).\n",
    "    Exemple : Le contour d’un visage est une zone où la couleur de la peau contraste avec le fond.\n",
    "\n",
    "b) Calculer les \"flèches\" (gradients)\n",
    "\n",
    "    Pour chaque pixel d’une bordure, on calcule une flèche :\n",
    "        Direction : Où va la bordure (ex: horizontale, verticale, diagonale).\n",
    "        Longueur : À quel point le changement est fort (ex: bordure nette → flèche longue).\n",
    "\n",
    "    Exemple : Un trait vertical (comme une jambe) aura des flèches orientées vers le haut/bas."
   ]
  },
  {
   "cell_type": "code",
   "execution_count": null,
   "id": "ca7bb11a-87fb-4898-a4cb-60be027173c8",
   "metadata": {},
   "outputs": [],
   "source": []
  }
 ],
 "metadata": {
  "kernelspec": {
   "display_name": "Python 3 (ipykernel)",
   "language": "python",
   "name": "python3"
  },
  "language_info": {
   "codemirror_mode": {
    "name": "ipython",
    "version": 3
   },
   "file_extension": ".py",
   "mimetype": "text/x-python",
   "name": "python",
   "nbconvert_exporter": "python",
   "pygments_lexer": "ipython3",
   "version": "3.12.4"
  }
 },
 "nbformat": 4,
 "nbformat_minor": 5
}
